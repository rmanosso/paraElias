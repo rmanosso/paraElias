{
 "cells": [
  {
   "cell_type": "code",
   "execution_count": 7,
   "metadata": {},
   "outputs": [],
   "source": [
    "import numpy as np\n",
    "M = 8\n",
    "N = 8\n",
    "X = np.zeros(M)\n",
    "x = np.zeros(N)\n",
    "for k in range(M):\n",
    "    for n in range(N):\n",
    "        X[k] += x[n] * np.exp((-2*np.pi)*(k/N)*n)"
   ]
  },
  {
   "cell_type": "code",
   "execution_count": 8,
   "metadata": {},
   "outputs": [
    {
     "data": {
      "text/plain": [
       "(array([-5.55111512e-17+0.00000000e+00j,  5.00000000e-01-1.20710678e+00j,\n",
       "         4.00000000e-01-4.00000000e-01j,  5.00000000e-01-2.07106781e-01j,\n",
       "         4.00000000e-01+1.71450552e-16j,  5.00000000e-01+2.07106781e-01j,\n",
       "         4.00000000e-01+4.00000000e-01j,  5.00000000e-01+1.20710678e+00j]),\n",
       " array([-5.55111512e-17+0.00000000e+00j,  5.00000000e-01-1.20710678e+00j,\n",
       "         4.00000000e-01-4.00000000e-01j,  5.00000000e-01-2.07106781e-01j,\n",
       "         4.00000000e-01+1.71450552e-16j,  5.00000000e-01+2.07106781e-01j,\n",
       "         4.00000000e-01+4.00000000e-01j,  5.00000000e-01+1.20710678e+00j]))"
      ]
     },
     "execution_count": 8,
     "metadata": {},
     "output_type": "execute_result"
    }
   ],
   "source": [
    "import numpy as np\n",
    "\n",
    "# Implementação da DFT usando loops\n",
    "def DFT(x):\n",
    "    N = len(x)\n",
    "    X = np.zeros(N, dtype=complex)\n",
    "    for k in range(N):  # Para cada frequência de saída\n",
    "        sum_value = 0.0\n",
    "        for n in range(N):  # Para cada amostra de entrada\n",
    "            sum_value += x[n] * np.exp(-2j * np.pi * k * n / N)  # Fórmula da DFT\n",
    "        X[k] = sum_value\n",
    "    return X\n",
    "\n",
    "# Implementação da NDFT usando loops\n",
    "def NDFT(x, t):\n",
    "    N = len(x)\n",
    "    X = np.zeros(N, dtype=complex)\n",
    "    for k in range(N):  # Para cada frequência de saída\n",
    "        sum_value = 0.0\n",
    "        for n in range(N):  # Para cada amostra de entrada\n",
    "            sum_value += x[n] * np.exp(-2j * np.pi * k * t[n])  # Fórmula da NDFT\n",
    "        X[k] = sum_value\n",
    "    return X\n",
    "\n",
    "# Exemplo de aplicação\n",
    "# Vamos usar uma função simples com 4 amostras\n",
    "x = np.array([0.4, 0.3, 0.2, 0.1, -0.1, -0.2, -0.3,-0.4])  # Exemplo de entrada uniforme\n",
    "\n",
    "# Para o NDFT, vamos definir os tempos t de forma uniforme para comparação\n",
    "t_uniforme = np.linspace(0, 1, len(x), endpoint=False)\n",
    "\n",
    "# Aplicando DFT e NDFT\n",
    "X_dft = DFT(x)\n",
    "X_ndft = NDFT(x, t_uniforme)\n",
    "\n",
    "# Exibir os resultados para comparação\n",
    "X_dft, X_ndft\n"
   ]
  },
  {
   "cell_type": "code",
   "execution_count": 9,
   "metadata": {},
   "outputs": [],
   "source": [
    "import nfft\n",
    "\n",
    "f = nfft.nfft_adjoint(x, t_uniforme, N)"
   ]
  },
  {
   "cell_type": "code",
   "execution_count": 10,
   "metadata": {},
   "outputs": [
    {
     "name": "stdout",
     "output_type": "stream",
     "text": [
      "[-8.75000001e-01-0.20307481j -6.27436991e-10+0.36327126j\n",
      " -8.75000001e-01-0.8602387j  -5.86132821e-10+1.53884177j\n",
      "  3.50000000e+00+0.j         -5.86132821e-10-1.53884177j\n",
      " -8.75000001e-01+0.8602387j  -6.27436991e-10-0.36327126j]\n"
     ]
    }
   ],
   "source": [
    "print(f)"
   ]
  }
 ],
 "metadata": {
  "kernelspec": {
   "display_name": "base",
   "language": "python",
   "name": "python3"
  },
  "language_info": {
   "codemirror_mode": {
    "name": "ipython",
    "version": 3
   },
   "file_extension": ".py",
   "mimetype": "text/x-python",
   "name": "python",
   "nbconvert_exporter": "python",
   "pygments_lexer": "ipython3",
   "version": "3.12.1"
  }
 },
 "nbformat": 4,
 "nbformat_minor": 2
}
