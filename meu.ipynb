{
 "cells": [
  {
   "cell_type": "code",
   "execution_count": 1,
   "metadata": {},
   "outputs": [
    {
     "name": "stdout",
     "output_type": "stream",
     "text": [
      "[10.+0.j -2.+2.j -2.+0.j -2.-2.j]\n",
      "[ 1.75+0.j   -0.5 -0.75j -0.75+0.j   -0.5 +0.75j]\n",
      "[17.5+0.j   2.5+0.5j  1.5-0.j   2.5-0.5j]\n",
      "[6.   3.75 3.5  4.25]\n"
     ]
    }
   ],
   "source": [
    "# Calculo de conv. circular. usando fft\n",
    "\n",
    "import numpy as np\n",
    "\n",
    "x = [1, 2, 3, 4]\n",
    "y = [0, 1, 0.5, 0.25]\n",
    "\n",
    "X = np.fft.fft(x)\n",
    "Y = np.fft.fft(y)\n",
    "print(X)\n",
    "print(Y)\n",
    "\n",
    "Z = X * Y \n",
    "print(Z)\n",
    "\n",
    "z = np.fft.ifft(Z)\n",
    "print(np.real(z))\n"
   ]
  },
  {
   "cell_type": "code",
   "execution_count": 2,
   "metadata": {},
   "outputs": [],
   "source": [
    "#implementação da fft manual\n",
    "\n",
    "import numpy as np\n",
    "\n",
    "def fft(P):\n",
    "    n = len(P)\n",
    "    if n == 1:\n",
    "        return P\n",
    "    w = np.exp((2j*np.pi)/n)\n",
    "    P_even = fft(P[0::2])\n",
    "    P_odd = fft(P[1::2])\n",
    "    \n",
    "    y = np.zeros(n, dtype=complex)\n",
    "    \n",
    "    for k in range(n//2):\n",
    "        y[k] = P_even[k] + w**k * P_odd[k]\n",
    "        y[k + n//2] = P_even[k] - w**k * P_odd[k]\n",
    "    return y"
   ]
  },
  {
   "cell_type": "code",
   "execution_count": 3,
   "metadata": {},
   "outputs": [
    {
     "name": "stdout",
     "output_type": "stream",
     "text": [
      "[10.+0.j -2.-2.j -2.+0.j -2.+2.j]\n",
      "[ 1.75+0.j   -0.5 +0.75j -0.75+0.j   -0.5 -0.75j]\n",
      "[17.5+0.j   2.5-0.5j  1.5-0.j   2.5+0.5j]\n",
      "[6.   4.25 3.5  3.75]\n"
     ]
    }
   ],
   "source": [
    "#convolução circular usando a fft implementada \n",
    "\n",
    "X = fft(x)\n",
    "Y = fft(y)\n",
    "print(X)\n",
    "print(Y)\n",
    "\n",
    "Z = X * Y \n",
    "print(Z)\n",
    "\n",
    "z = np.fft.ifft(Z)\n",
    "print(np.real(z))"
   ]
  },
  {
   "cell_type": "markdown",
   "metadata": {},
   "source": [
    "Resultado 1: [6.   3.75 3.5  4.25]\n",
    "Resultado 2: [6.   4.25 3.5  3.75]"
   ]
  },
  {
   "cell_type": "code",
   "execution_count": 4,
   "metadata": {},
   "outputs": [],
   "source": [
    "#CZT implementada manual por somatória\n",
    "\n",
    "import numpy as np\n",
    "\n",
    "def czt_custosa(x, M = None, A = None, W = None):\n",
    "    if M is None:\n",
    "      M = len(x)\n",
    "    if A is None:\n",
    "      A = 1\n",
    "    N = len(x)\n",
    "    if W is None:\n",
    "      W = np.exp((-2j * np.pi)/N)\n",
    "    X = np.zeros(M, dtype=complex)\n",
    "    for k in range(M):\n",
    "        for n in range(N):\n",
    "            X[k] += x[n] * (A ** (-n)) * (W ** (k*n))\n",
    "    return X\n"
   ]
  },
  {
   "cell_type": "code",
   "execution_count": 5,
   "metadata": {},
   "outputs": [
    {
     "name": "stdout",
     "output_type": "stream",
     "text": [
      "[1, 2, 3, 4]\n",
      "[10.+0.00000000e+00j -2.+2.00000000e+00j -2.-9.79717439e-16j\n",
      " -2.-2.00000000e+00j]\n"
     ]
    }
   ],
   "source": [
    "resultado = czt_custosa(x)\n",
    "print(x)\n",
    "print(resultado)"
   ]
  },
  {
   "cell_type": "code",
   "execution_count": 6,
   "metadata": {},
   "outputs": [],
   "source": [
    "# convolução circular por resto de divisão \n",
    "import numpy as np\n",
    "\n",
    "def convolucao_circular_custosa(x, y):\n",
    "    N = max(len(x), len(y))\n",
    "\n",
    "    x = np.pad(x, (0, N - len(x)), mode='constant')\n",
    "    y = np.pad(y, (0, N - len(y)), mode='constant')\n",
    "\n",
    "    resultado = np.zeros(N)\n",
    "\n",
    "    for k in range(N):\n",
    "        for n in range(N):\n",
    "            resultado[k] += x[n] * y[(k-n) % N]\n",
    "    return resultado\n",
    "\n"
   ]
  },
  {
   "cell_type": "code",
   "execution_count": 7,
   "metadata": {},
   "outputs": [
    {
     "name": "stdout",
     "output_type": "stream",
     "text": [
      "[1, 2, 3, 4]\n",
      "[0, 1, 0.5, 0.25]\n",
      "[6.   3.75 3.5  4.25]\n"
     ]
    }
   ],
   "source": [
    "print(x)\n",
    "print(y)\n",
    "conv = convolucao_circular_custosa(x, y)\n",
    "print(conv)"
   ]
  },
  {
   "cell_type": "code",
   "execution_count": 8,
   "metadata": {},
   "outputs": [],
   "source": [
    "def convolucao_circular_fft(x, y):\n",
    "    N = max(len(x), len(y))\n",
    "\n",
    "    x = np.pad(x, (0, N - len(x)), mode='constant')\n",
    "    y = np.pad(y, (0, N - len(y)), mode='constant')\n",
    "\n",
    "    X = fft(x)\n",
    "    Y = fft(y)\n",
    "\n",
    "    Z = X * Y\n",
    "\n",
    "    z = np.fft.ifft(Z)\n",
    "\n",
    "    return np.real(z)"
   ]
  },
  {
   "cell_type": "code",
   "execution_count": 9,
   "metadata": {},
   "outputs": [
    {
     "name": "stdout",
     "output_type": "stream",
     "text": [
      "[1, 2, 3, 4]\n",
      "[0, 1, 0.5, 0.25]\n",
      "[6.   4.25 3.5  3.75]\n"
     ]
    }
   ],
   "source": [
    "print(x)\n",
    "print(y)\n",
    "conv = convolucao_circular_fft(x, y)\n",
    "print(conv)"
   ]
  },
  {
   "cell_type": "markdown",
   "metadata": {},
   "source": [
    "Resultado 1: [6.   3.75 3.5  4.25]\n",
    "Resultado 2: [6.   4.25 3.5  3.75]"
   ]
  },
  {
   "cell_type": "markdown",
   "metadata": {},
   "source": [
    "Não implementei a IFFT"
   ]
  },
  {
   "cell_type": "markdown",
   "metadata": {},
   "source": [
    "Convolução Circular para:\n",
    "p_i\n",
    "q_i\n"
   ]
  },
  {
   "cell_type": "code",
   "execution_count": 10,
   "metadata": {},
   "outputs": [],
   "source": [
    "#Entrada: \n",
    "#p = np.zeros(Q, dtype=complex)\n",
    "#q = np.zeros(Q, dtype=complex)\n",
    "\n",
    "\n",
    "def czt_p_e_q(x, P = None, alpha = None, M = None, R = None):\n",
    "    m = len(x)\n",
    "    if P is None:\n",
    "        P = m\n",
    "    Q = 2*P\n",
    "    if alpha is None:\n",
    "        alpha = 1\n",
    "    if M is None:\n",
    "        M = m\n",
    "    if R is None:\n",
    "        R = 1\n",
    "    p = np.zeros(Q, dtype=complex)\n",
    "    q = np.zeros(Q, dtype=complex)\n",
    "\n",
    "    for i in range(Q):\n",
    "        if i <= m:\n",
    "            p[i] = x[i] * np.exp(((-1j * i * np.pi * alpha)/M)*(i-2*R))\n",
    "        else:\n",
    "            p[i] = 0\n",
    "        if i <= P:\n",
    "            q[i] = np.exp(+1j *((np.pi * alpha)/M)*i**2)\n",
    "        else:\n",
    "            q[i] = np.exp(+1j * ((np.pi * alpha)/ M)* (Q-i)**2)\n",
    "\n",
    "    resultado_convolucao = convolucao_circular_fft(p, q)\n",
    "    for I in range(P-1):\n",
    "        X[I] = np.exp(-1j*((np.pi * alpha)/M)*I**2)*(resultado_convolucao[I])\n",
    "\n",
    "    return X    \n"
   ]
  },
  {
   "cell_type": "code",
   "execution_count": 11,
   "metadata": {},
   "outputs": [],
   "source": [
    "#Algorithm 3\n",
    "\n",
    "def CZT_I(m, alpha, M, P, R):\n",
    "    r = np.zeros(m, complex)\n",
    "    q = np.zeros(2*P, dtype=complex)\n",
    "    for i in range(m):\n",
    "        r[i] = np.exp(-1j * i * ((np.pi * alpha)/M) * (i - 2 * R) )\n",
    "    for i in range(2*P):\n",
    "        if i <= P:\n",
    "            q[i] = np.exp(+1j *((np.pi * alpha)/M) * i**2)\n",
    "        else:\n",
    "            q[i] = np.exp(+1j * ((np.pi * alpha)/ M) * (2*P-i)**2)\n",
    "    q_hat = np.zeros(2*P, dtype=complex)\n",
    "    q_hat = fft(q)\n",
    "    s = np.zeros(P, dtype=complex)\n",
    "    for I in range(P):\n",
    "        s[I] = np.exp(-1j * ((np.pi * alpha)/ M) * I**2)\n",
    "    return q_hat, r, s"
   ]
  },
  {
   "cell_type": "code",
   "execution_count": 12,
   "metadata": {},
   "outputs": [],
   "source": [
    "#Algotithm 4\n",
    "\n",
    "def CZT(x, m, P, q_hat, r, s):\n",
    "    p = np.zeros(m, complex)\n",
    "    for i in range(m):\n",
    "        p[i] = x[i] * r[i]\n",
    "    p_hat = np.zeros(m, complex)\n",
    "    p_hat = fft(p) #(p,m, 2P) - rever!\n",
    "    for I in range(2 * P):\n",
    "        p_hat[I] = p_hat[I] * q_hat[I]\n",
    "    y = np.zeros(P, complex)\n",
    "    y = np.fft.ifft(p_hat)\n",
    "    for I in range(P):\n",
    "        y[I] = y[I] * s[I]\n",
    "    return y"
   ]
  },
  {
   "cell_type": "code",
   "execution_count": 13,
   "metadata": {},
   "outputs": [],
   "source": [
    "#Algorithm 1\n",
    "\n",
    "def GALE_I(tetha, m, n, M, N, N_L, S, R_1, R_2, sigma, epsilon):\n",
    "    p = np.zeros(m, complex)\n",
    "    alpha = np.zeros(M, complex)\n",
    "    varpi = np.zeros(M, complex)\n",
    "    tau = np.zeros(M, complex)\n",
    "    q_hat = np.zeros(M, complex)\n",
    "    r = np.zeros(M, complex) #uma dimensão? Não duas?\n",
    "    s = np.zeros(M, complex)\n",
    "    t = np.zeros(n, m, dtype=complex)\n",
    "    for i in range(m):\n",
    "        p[i] = np.exp(+1j * i * ((2 * np.pi * R_1)/M) + sigma)\n",
    "    for I in range(M):\n",
    "        alpha[I] = ((4*(I-R_1)/M)-(2*sigma)/np.pi)\n",
    "        q_hat[I],r[I], s[I] = CZT_I(n, alpha[I], N_L, N_L + 2 *(S+1), R_2) #r em uma dimensão \n",
    "        varpi[I] = (np.pi * (n-1)/N_L) * alpha[I]\n",
    "        tau[I] = np.pi + epsilon * (np.pi - np.mod(varpi[I]))\n",
    "        for j in range(n):\n",
    "            t[j][I] = ((2 * np.pi * j) / N_L) * alpha[I]\n",
    "            r[j][I] = r[j][I]  #r em duas dimensões\n",
    "\n",
    "\n",
    "\n",
    "\n"
   ]
  },
  {
   "cell_type": "markdown",
   "metadata": {},
   "source": [
    "Ideia: Aplicar as implementações construidas até agora em um exemplo do Linograma"
   ]
  },
  {
   "cell_type": "code",
   "execution_count": 14,
   "metadata": {},
   "outputs": [],
   "source": [
    "#Domínio do Linograma\n",
    "def lino_H(M,N):\n",
    "    x = []\n",
    "    y = []\n",
    "    for I in range(-M//2 , M//2):\n",
    "        for J in range(-N//4 +1, N//4 +1):\n",
    "            x.append((2*np.pi * I)/M)\n",
    "            y.append(((2*np.pi*I)/M ) * ((4 * J)/N))\n",
    "    return(x,y)\n",
    "\n",
    "\n",
    "def lino_V(M,N):\n",
    "    x = []\n",
    "    y = []\n",
    "    for I in range(-M//2 + 1, M//2 + 1):\n",
    "        for J in range(-N//4 , N//4):\n",
    "            y.append((2*np.pi * I)/M)\n",
    "            x.append(((2*np.pi*I)/M ) * ((4 * J)/N))\n",
    "    return(x,y)"
   ]
  },
  {
   "cell_type": "code",
   "execution_count": 15,
   "metadata": {},
   "outputs": [
    {
     "name": "stdout",
     "output_type": "stream",
     "text": [
      "[[0.63744274+0.60880196j 0.19798211+0.86725903j 0.27429066+0.75261113j\n",
      "  0.80995787+0.168766j  ]\n",
      " [0.94821877+0.78101207j 0.15866289+0.21493234j 0.36540594+0.2170043j\n",
      "  0.52589577+0.75985608j]\n",
      " [0.15502007+0.53860436j 0.27572075+0.941877j   0.46616131+0.86817667j\n",
      "  0.76709077+0.92377532j]\n",
      " [0.73676622+0.51244812j 0.94451948+0.84571446j 0.88626502+0.71611575j\n",
      "  0.82540437+0.61663066j]]\n"
     ]
    }
   ],
   "source": [
    "import numpy as np\n",
    "\n",
    "# Definir o tamanho da matriz m por n\n",
    "m, n = 4, 4 # Por exemplo, uma matriz 4x4\n",
    "\n",
    "# Gerar a parte real e a parte imaginária separadamente, com valores aleatórios\n",
    "parte_real = np.random.rand(m, n)  # Valores reais aleatórios entre 0 e 1\n",
    "parte_imaginaria = np.random.rand(m, n)  # Valores imaginários aleatórios entre 0 e 1\n",
    "\n",
    "# Combinar para criar uma matriz complexa\n",
    "x = parte_real + 1j * parte_imaginaria\n",
    "\n",
    "# Exibir a matriz\n",
    "print(x)"
   ]
  },
  {
   "cell_type": "code",
   "execution_count": 16,
   "metadata": {},
   "outputs": [
    {
     "data": {
      "image/png": "[encoded data removed]",
      "text/plain": [
       "<Figure size 640x480 with 1 Axes>"
      ]
     },
     "metadata": {},
     "output_type": "display_data"
    }
   ],
   "source": [
    "import matplotlib.pyplot as plt\n",
    "\n",
    "xi_h, nu_h = lino_H(m, n)\n",
    "xi_v, nu_v = lino_V(m, n)\n",
    "\n",
    "plt.scatter(xi_h, nu_h)\n",
    "plt.scatter(xi_v, nu_v)\n",
    "# Adicionando rótulos aos eixos e título\n",
    "plt.xlabel('Eixo X')\n",
    "plt.ylabel('Eixo Y')\n",
    "plt.title('Gráfico de Pontos (x, y)')\n",
    "\n",
    "# Exibindo o gráfico\n",
    "plt.show()"
   ]
  },
  {
   "cell_type": "code",
   "execution_count": 17,
   "metadata": {},
   "outputs": [
    {
     "name": "stdout",
     "output_type": "stream",
     "text": [
      "[-3.141592653589793, -3.141592653589793, -1.5707963267948966, -1.5707963267948966, 0.0, 0.0, 1.5707963267948966, 1.5707963267948966] [-0.0, -3.141592653589793, -0.0, -1.5707963267948966, 0.0, 0.0, 0.0, 1.5707963267948966]\n",
      "[1.5707963267948966, -0.0, -0.0, 0.0, -1.5707963267948966, 0.0, -3.141592653589793, 0.0] [-1.5707963267948966, -1.5707963267948966, 0.0, 0.0, 1.5707963267948966, 1.5707963267948966, 3.141592653589793, 3.141592653589793]\n",
      "[-3.14159265 -3.14159265 -1.57079633 -1.57079633  0.          0.\n",
      "  1.57079633  1.57079633] [-0.         -3.14159265 -0.         -1.57079633  0.          0.\n",
      "  0.          1.57079633]\n",
      "[ 1.57079633 -0.         -0.          0.         -1.57079633  0.\n",
      " -3.14159265  0.        ] [-1.57079633 -1.57079633  0.          0.          1.57079633  1.57079633\n",
      "  3.14159265  3.14159265]\n"
     ]
    }
   ],
   "source": [
    "print(xi_h, nu_h)\n",
    "print(xi_v, nu_v )\n",
    "\n",
    "\n",
    "xi_h = np.array(xi_h)\n",
    "nu_h = np.array(nu_h)\n",
    "xi_v = np.array(xi_v)\n",
    "nu_v = np.array(nu_v)\n",
    "print(xi_h, nu_h)\n",
    "print(xi_v, nu_v )\n"
   ]
  },
  {
   "cell_type": "code",
   "execution_count": 18,
   "metadata": {},
   "outputs": [
    {
     "name": "stdout",
     "output_type": "stream",
     "text": [
      "[-0.03566328 -0.34403653j -1.00001017 +0.07707007j\n",
      "  0.08457007 -1.4645049j  -0.28742543 +1.57147658j\n",
      "  8.97480474+10.33358526j  8.97480474+10.33358526j\n",
      "  0.88607964 +1.23842222j  2.60870805 +0.34806479j]\n",
      "[ 0.10066127 +0.26467297j  0.97378466 -2.26976695j\n",
      "  8.97480474+10.33358526j  8.97480474+10.33358526j\n",
      "  0.27522938 -1.44116177j -0.46242371 +0.51977647j\n",
      " -1.00001017 +0.07707007j -1.80747218 +1.00615768j]\n"
     ]
    }
   ],
   "source": [
    "def DTFT(x, xi, nu):\n",
    "    m, n = x.shape\n",
    "    x_result = np.zeros(len(xi), dtype=complex)\n",
    "    for k in range(len(xi)):\n",
    "        for i in range(m):\n",
    "            for j in range(n):\n",
    "                x_result[k] += x[i][j] * np.exp(-1j*(j*xi[k] + i*nu[k]))\n",
    "    return x_result\n",
    "\n",
    "#Aplicando a DTFT no domínio\n",
    "print(DTFT(x, xi_h, nu_h))\n",
    "print(DTFT(x, xi_v, nu_v))\n"
   ]
  },
  {
   "cell_type": "markdown",
   "metadata": {},
   "source": [
    "Tentar reduzir o custo usando as implementações da fft e czt"
   ]
  },
  {
   "cell_type": "code",
   "execution_count": 19,
   "metadata": {},
   "outputs": [],
   "source": [
    "X_fft = np.fft.fft(x, m)"
   ]
  },
  {
   "cell_type": "code",
   "execution_count": 20,
   "metadata": {},
   "outputs": [],
   "source": [
    "X_shifted = np.fft.fftshift(X_fft)"
   ]
  },
  {
   "cell_type": "code",
   "execution_count": 22,
   "metadata": {},
   "outputs": [],
   "source": [
    "I_values = np.arange(-m//2, m//2)"
   ]
  }
 ],
 "metadata": {
  "kernelspec": {
   "display_name": "base",
   "language": "python",
   "name": "python3"
  },
  "language_info": {
   "codemirror_mode": {
    "name": "ipython",
    "version": 3
   },
   "file_extension": ".py",
   "mimetype": "text/x-python",
   "name": "python",
   "nbconvert_exporter": "python",
   "pygments_lexer": "ipython3",
   "version": "3.12.1"
  }
 },
 "nbformat": 4,
 "nbformat_minor": 2
}
