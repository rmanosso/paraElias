{
 "cells": [
  {
   "cell_type": "code",
   "execution_count": 2,
   "metadata": {},
   "outputs": [],
   "source": [
    "import numpy as np\n",
    "\n",
    "#Domínio do Linograma\n",
    "def lino_H(M,N):\n",
    "    x = []\n",
    "    y = []\n",
    "    for I in range(-M//2 , M//2):\n",
    "        for J in range(-N//4 +1, N//4 +1):\n",
    "            x.append((2*np.pi * I)/M)\n",
    "            y.append(((2*np.pi*I)/M ) * ((4 * J)/N))\n",
    "    return(x,y)\n",
    "\n",
    "\n",
    "def lino_V(M,N):\n",
    "    x = []\n",
    "    y = []\n",
    "    for I in range(-M//2 + 1, M//2 + 1):\n",
    "        for J in range(-N//4 , N//4):\n",
    "            y.append((2*np.pi * I)/M)\n",
    "            x.append(((2*np.pi*I)/M ) * ((4 * J)/N))\n",
    "    return(x,y)"
   ]
  },
  {
   "cell_type": "code",
   "execution_count": 3,
   "metadata": {},
   "outputs": [
    {
     "name": "stdout",
     "output_type": "stream",
     "text": [
      "[[0.92163236+0.005786j   0.78289723+0.50195011j 0.23612258+0.99283678j\n",
      "  0.36081189+0.19961728j]\n",
      " [0.68170675+0.81004547j 0.42180274+0.82484596j 0.70988484+0.11666116j\n",
      "  0.36729816+0.09755931j]\n",
      " [0.11923737+0.8544077j  0.03373931+0.74011439j 0.97968963+0.57781659j\n",
      "  0.12685259+0.58231144j]\n",
      " [0.14249504+0.6481098j  0.18075303+0.15220549j 0.88531795+0.25538852j\n",
      "  0.44264745+0.38464011j]]\n"
     ]
    }
   ],
   "source": [
    "import numpy as np\n",
    "\n",
    "# Definir o tamanho da matriz m por n\n",
    "m, n = 4, 4 # Por exemplo, uma matriz 4x4\n",
    "\n",
    "# Gerar a parte real e a parte imaginária separadamente, com valores aleatórios\n",
    "parte_real = np.random.rand(m, n)  # Valores reais aleatórios entre 0 e 1\n",
    "parte_imaginaria = np.random.rand(m, n)  # Valores imaginários aleatórios entre 0 e 1\n",
    "\n",
    "# Combinar para criar uma matriz complexa\n",
    "x = np.array(parte_real + 1j * parte_imaginaria)\n",
    "\n",
    "# Exibir a matriz\n",
    "print(x)"
   ]
  },
  {
   "cell_type": "code",
   "execution_count": 4,
   "metadata": {},
   "outputs": [
    {
     "data": {
      "image/png": "[encoded data removed]",
      "text/plain": [
       "<Figure size 640x480 with 1 Axes>"
      ]
     },
     "metadata": {},
     "output_type": "display_data"
    }
   ],
   "source": [
    "import matplotlib.pyplot as plt\n",
    "\n",
    "xi_h, nu_h = lino_H(m, n)\n",
    "xi_v, nu_v = lino_V(m, n)\n",
    "\n",
    "plt.scatter(xi_h, nu_h)\n",
    "plt.scatter(xi_v, nu_v)\n",
    "# Adicionando rótulos aos eixos e título\n",
    "plt.xlabel('Eixo X')\n",
    "plt.ylabel('Eixo Y')\n",
    "plt.title('Gráfico de Pontos (x, y)')\n",
    "\n",
    "# Exibindo o gráfico\n",
    "plt.show()"
   ]
  },
  {
   "cell_type": "code",
   "execution_count": 5,
   "metadata": {},
   "outputs": [
    {
     "name": "stdout",
     "output_type": "stream",
     "text": [
      "[-3.141592653589793, -3.141592653589793, -1.5707963267948966, -1.5707963267948966, 0.0, 0.0, 1.5707963267948966, 1.5707963267948966] [-0.0, -3.141592653589793, -0.0, -1.5707963267948966, 0.0, 0.0, 0.0, 1.5707963267948966]\n",
      "[1.5707963267948966, -0.0, -0.0, 0.0, -1.5707963267948966, 0.0, -3.141592653589793, 0.0] [-1.5707963267948966, -1.5707963267948966, 0.0, 0.0, 1.5707963267948966, 1.5707963267948966, 3.141592653589793, 3.141592653589793]\n",
      "[-3.14159265 -3.14159265 -1.57079633 -1.57079633  0.          0.\n",
      "  1.57079633  1.57079633] [-0.         -3.14159265 -0.         -1.57079633  0.          0.\n",
      "  0.          1.57079633]\n",
      "[ 1.57079633 -0.         -0.          0.         -1.57079633  0.\n",
      " -3.14159265  0.        ] [-1.57079633 -1.57079633  0.          0.          1.57079633  1.57079633\n",
      "  3.14159265  3.14159265]\n"
     ]
    }
   ],
   "source": [
    "print(xi_h, nu_h)\n",
    "print(xi_v, nu_v )\n",
    "\n",
    "\n",
    "xi_h = np.array(xi_h)\n",
    "nu_h = np.array(nu_h)\n",
    "xi_v = np.array(xi_v)\n",
    "nu_v = np.array(nu_v)\n",
    "print(xi_h, nu_h)\n",
    "print(xi_v, nu_v )\n"
   ]
  },
  {
   "cell_type": "code",
   "execution_count": 6,
   "metadata": {},
   "outputs": [
    {
     "name": "stdout",
     "output_type": "stream",
     "text": [
      "[ 1.95928412+0.77780792j -0.05452226+0.03589978j -1.90093128+0.49722815j\n",
      "  0.78437011-0.9935197j   7.39288894+7.7442961j   7.39288894+7.7442961j\n",
      "  0.00904431+0.25406369j  1.67475594-3.45320659j]\n",
      "[ 1.70622788-0.10447443j  0.63317718-0.52498094j  7.39288894+7.7442961j\n",
      "  7.39288894+7.7442961j   2.0184942 -0.50336682j  1.45071315-1.58393896j\n",
      " -0.05452226+0.03589978j -0.270923  +1.16538448j]\n"
     ]
    }
   ],
   "source": [
    "def DTFT(x, xi, nu):\n",
    "    m, n = x.shape\n",
    "    x_result = np.zeros(len(xi), dtype=complex)\n",
    "    for k in range(len(xi)):\n",
    "        for i in range(m):\n",
    "            for j in range(n):\n",
    "                x_result[k] += x[i][j] * np.exp(-1j*(j*xi[k] + i*nu[k]))\n",
    "    return x_result\n",
    "\n",
    "#Aplicando a DTFT no domínio\n",
    "print(DTFT(x, xi_h, nu_h))\n",
    "print(DTFT(x, xi_v, nu_v))\n",
    "\n"
   ]
  },
  {
   "cell_type": "code",
   "execution_count": 8,
   "metadata": {},
   "outputs": [],
   "source": [
    "#comparação de matrizes\n",
    "\n",
    "matriz1 = np.array([[1+2j, 2+3j], [3+4j, 4 +5j]])\n",
    "matriz2 = np.array([[1+2j, 2+3j], [3+4j, 4 +5j]])\n",
    "\n",
    "\n",
    "def comparar_matrizes(matriz1, matriz2):\n",
    "    if np.allclose(matriz1, matriz2, atol=1e-8):\n",
    "        print(\"As matrizes são aproximadamente iguais\")\n",
    "    else:\n",
    "        print(\"As matrizes são diferentes\")"
   ]
  },
  {
   "cell_type": "code",
   "execution_count": 9,
   "metadata": {},
   "outputs": [
    {
     "name": "stdout",
     "output_type": "stream",
     "text": [
      "As matrizes são aproximadamente iguais\n"
     ]
    }
   ],
   "source": [
    "comparar_matrizes(matriz1, matriz2)"
   ]
  },
  {
   "cell_type": "code",
   "execution_count": null,
   "metadata": {},
   "outputs": [],
   "source": []
  }
 ],
 "metadata": {
  "kernelspec": {
   "display_name": "usr",
   "language": "python",
   "name": "python3"
  },
  "language_info": {
   "codemirror_mode": {
    "name": "ipython",
    "version": 3
   },
   "file_extension": ".py",
   "mimetype": "text/x-python",
   "name": "python",
   "nbconvert_exporter": "python",
   "pygments_lexer": "ipython3",
   "version": "3.12.3"
  }
 },
 "nbformat": 4,
 "nbformat_minor": 2
}
