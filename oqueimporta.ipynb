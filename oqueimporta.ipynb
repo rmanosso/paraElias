{
 "cells": [
  {
   "cell_type": "code",
   "execution_count": 1,
   "metadata": {},
   "outputs": [],
   "source": [
    "import numpy as np\n",
    "\n",
    "#Domínio do Linograma\n",
    "def lino_H(M,N):\n",
    "    x = []\n",
    "    y = []\n",
    "    for I in range(-M//2 , M//2):\n",
    "        for J in range(-N//4 +1, N//4 +1):\n",
    "            x.append((2*np.pi * I)/M)\n",
    "            y.append(((2*np.pi*I)/M ) * ((4 * J)/N))\n",
    "    return(x,y)\n",
    "\n",
    "\n",
    "def lino_V(M,N):\n",
    "    x = []\n",
    "    y = []\n",
    "    for I in range(-M//2 + 1, M//2 + 1):\n",
    "        for J in range(-N//4 , N//4):\n",
    "            y.append((2*np.pi * I)/M)\n",
    "            x.append(((2*np.pi*I)/M ) * ((4 * J)/N))\n",
    "    return(x,y)"
   ]
  },
  {
   "cell_type": "code",
   "execution_count": 2,
   "metadata": {},
   "outputs": [
    {
     "name": "stdout",
     "output_type": "stream",
     "text": [
      "[[0.88927691+0.72049707j 0.41972047+0.34186976j 0.06701813+0.62733475j\n",
      "  0.401368  +0.65791585j]\n",
      " [0.81566189+0.41504853j 0.77381773+0.17730581j 0.62477597+0.26359441j\n",
      "  0.2587727 +0.05016638j]\n",
      " [0.35675825+0.79591448j 0.53565876+0.33233303j 0.33364996+0.09919975j\n",
      "  0.62330213+0.05509264j]\n",
      " [0.6644244 +0.62707943j 0.37842031+0.45937329j 0.8865835 +0.72281767j\n",
      "  0.61633833+0.7388919j ]]\n"
     ]
    }
   ],
   "source": [
    "import numpy as np\n",
    "\n",
    "# Definir o tamanho da matriz m por n\n",
    "m, n = 4, 4 # Por exemplo, uma matriz 4x4\n",
    "\n",
    "# Gerar a parte real e a parte imaginária separadamente, com valores aleatórios\n",
    "parte_real = np.random.rand(m, n)  # Valores reais aleatórios entre 0 e 1\n",
    "parte_imaginaria = np.random.rand(m, n)  # Valores imaginários aleatórios entre 0 e 1\n",
    "\n",
    "# Combinar para criar uma matriz complexa\n",
    "x = np.array(parte_real + 1j * parte_imaginaria)\n",
    "\n",
    "# Exibir a matriz\n",
    "print(x)"
   ]
  },
  {
   "cell_type": "code",
   "execution_count": 3,
   "metadata": {},
   "outputs": [
    {
     "data": {
      "image/png": "[encoded data removed]",
      "text/plain": [
       "<Figure size 640x480 with 1 Axes>"
      ]
     },
     "metadata": {},
     "output_type": "display_data"
    }
   ],
   "source": [
    "import matplotlib.pyplot as plt\n",
    "\n",
    "xi_h, nu_h = lino_H(m, n)\n",
    "xi_v, nu_v = lino_V(m, n)\n",
    "\n",
    "plt.scatter(xi_h, nu_h)\n",
    "plt.scatter(xi_v, nu_v)\n",
    "# Adicionando rótulos aos eixos e título\n",
    "plt.xlabel('Eixo X')\n",
    "plt.ylabel('Eixo Y')\n",
    "plt.title('Gráfico de Pontos (x, y)')\n",
    "\n",
    "# Exibindo o gráfico\n",
    "plt.show()"
   ]
  },
  {
   "cell_type": "code",
   "execution_count": 4,
   "metadata": {},
   "outputs": [
    {
     "name": "stdout",
     "output_type": "stream",
     "text": [
      "[-3.141592653589793, -3.141592653589793, -1.5707963267948966, -1.5707963267948966, 0.0, 0.0, 1.5707963267948966, 1.5707963267948966] [-0.0, -3.141592653589793, -0.0, -1.5707963267948966, 0.0, 0.0, 0.0, 1.5707963267948966]\n",
      "[1.5707963267948966, -0.0, -0.0, 0.0, -1.5707963267948966, 0.0, -3.141592653589793, 0.0] [-1.5707963267948966, -1.5707963267948966, 0.0, 0.0, 1.5707963267948966, 1.5707963267948966, 3.141592653589793, 3.141592653589793]\n",
      "[-3.14159265 -3.14159265 -1.57079633 -1.57079633  0.          0.\n",
      "  1.57079633  1.57079633] [-0.         -3.14159265 -0.         -1.57079633  0.          0.\n",
      "  0.          1.57079633]\n",
      "[ 1.57079633 -0.         -0.          0.         -1.57079633  0.\n",
      " -3.14159265  0.        ] [-1.57079633 -1.57079633  0.          0.          1.57079633  1.57079633\n",
      "  3.14159265  3.14159265]\n"
     ]
    }
   ],
   "source": [
    "print(xi_h, nu_h)\n",
    "print(xi_v, nu_v )\n",
    "\n",
    "\n",
    "xi_h = np.array(xi_h)\n",
    "nu_h = np.array(nu_h)\n",
    "xi_v = np.array(xi_v)\n",
    "nu_v = np.array(nu_v)\n",
    "print(xi_h, nu_h)\n",
    "print(xi_v, nu_v )\n"
   ]
  },
  {
   "cell_type": "code",
   "execution_count": 5,
   "metadata": {},
   "outputs": [
    {
     "name": "stdout",
     "output_type": "stream",
     "text": [
      "[ 0.63075059+1.45853744j -1.29744277+0.25293211j  1.00527877+1.05342905j\n",
      "  0.39228157-0.49116958j  8.64554743+7.08443475j  8.64554743+7.08443475j\n",
      "  0.622909  +0.63775681j -0.29990667-1.52925132j]\n",
      "[ 0.7116347 +0.11015481j  1.57006157+0.99233928j  8.64554743+7.08443475j\n",
      "  8.64554743+7.08443475j  2.39259238-0.50394354j -1.71403275+1.13781578j\n",
      " -1.29744277+0.25293211j -1.39204222+0.17587992j]\n"
     ]
    }
   ],
   "source": [
    "def DTFT(x, xi, nu):\n",
    "    m, n = x.shape\n",
    "    x_result = np.zeros(len(xi), dtype=complex)\n",
    "    for k in range(len(xi)):\n",
    "        for i in range(m):\n",
    "            for j in range(n):\n",
    "                x_result[k] += x[i][j] * np.exp(-1j*(j*xi[k] + i*nu[k]))\n",
    "    return x_result\n",
    "\n",
    "#Aplicando a DTFT no domínio\n",
    "print(DTFT(x, xi_h, nu_h))\n",
    "print(DTFT(x, xi_v, nu_v))\n",
    "\n"
   ]
  }
 ],
 "metadata": {
  "kernelspec": {
   "display_name": "base",
   "language": "python",
   "name": "python3"
  },
  "language_info": {
   "codemirror_mode": {
    "name": "ipython",
    "version": 3
   },
   "file_extension": ".py",
   "mimetype": "text/x-python",
   "name": "python",
   "nbconvert_exporter": "python",
   "pygments_lexer": "ipython3",
   "version": "3.12.1"
  }
 },
 "nbformat": 4,
 "nbformat_minor": 2
}
